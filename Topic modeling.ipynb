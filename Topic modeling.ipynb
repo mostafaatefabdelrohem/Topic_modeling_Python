{
 "cells": [
  {
   "cell_type": "markdown",
   "id": "6cdfa36f",
   "metadata": {},
   "source": [
    "# Topic  Modeling Project\n"
   ]
  },
  {
   "cell_type": "code",
   "execution_count": 2,
   "id": "0f2a676f",
   "metadata": {},
   "outputs": [],
   "source": [
    "word_polarity= {\n",
    "    'food':['eat','drink','juice','ornge', 'apple','banana'],\n",
    "    'sport':['stadium','football','ball','League']\n",
    "}\n"
   ]
  },
  {
   "cell_type": "code",
   "execution_count": 4,
   "id": "8dda6949",
   "metadata": {},
   "outputs": [],
   "source": [
    "f_statement='i love Playing football'\n",
    "s_statement='i love eating banana'"
   ]
  },
  {
   "cell_type": "code",
   "execution_count": 6,
   "id": "9dcba122",
   "metadata": {},
   "outputs": [
    {
     "name": "stdout",
     "output_type": "stream",
     "text": [
      "food\n"
     ]
    }
   ],
   "source": [
    "food=0\n",
    "sport=0\n",
    "for word in s_statement.split():\n",
    "    if word in word_polarity['sport']:\n",
    "        sport +=1\n",
    "    if word in word_polarity['food']:\n",
    "        food +=1\n",
    "if sport > food and sport:\n",
    "    print(\"sport\")\n",
    "if food > sport and food:\n",
    "    print (\"food\")"
   ]
  },
  {
   "cell_type": "code",
   "execution_count": null,
   "id": "a88124c5",
   "metadata": {},
   "outputs": [],
   "source": []
  }
 ],
 "metadata": {
  "kernelspec": {
   "display_name": "Python 3 (ipykernel)",
   "language": "python",
   "name": "python3"
  },
  "language_info": {
   "codemirror_mode": {
    "name": "ipython",
    "version": 3
   },
   "file_extension": ".py",
   "mimetype": "text/x-python",
   "name": "python",
   "nbconvert_exporter": "python",
   "pygments_lexer": "ipython3",
   "version": "3.11.4"
  }
 },
 "nbformat": 4,
 "nbformat_minor": 5
}
